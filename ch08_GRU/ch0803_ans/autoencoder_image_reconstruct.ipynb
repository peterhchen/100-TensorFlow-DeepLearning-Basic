{
  "nbformat": 4,
  "nbformat_minor": 0,
  "metadata": {
    "colab": {
      "name": "autoencoder-image-reconstruct.ipynb",
      "version": "0.3.2",
      "provenance": []
    },
    "kernelspec": {
      "name": "python3",
      "display_name": "Python 3"
    }
  },
  "cells": [
    {
      "metadata": {
        "id": "xMEs5WTB1Pru",
        "colab_type": "code",
        "colab": {
          "base_uri": "https://localhost:8080/",
          "height": 1231
        },
        "outputId": "92dd3ddb-9cf0-4ccc-f070-bbb3f63b4b3d"
      },
      "cell_type": "code",
      "source": [
        "import tensorflow as tf\n",
        "import numpy as np\n",
        "from tensorflow.examples.tutorials.mnist import input_data\n",
        "import matplotlib.pyplot as plt\n",
        "import math\n",
        "#get_ipython().magic('matplotlib inline')\n",
        "\n",
        "mnist = input_data.read_data_sets(\"MNIST_data/\")\n",
        "trX, trY, teX, teY = mnist.train.images, mnist.train.labels, mnist.test.images, mnist.test.labels\n",
        "\n",
        "class AutoEncoder(object):\n",
        "  def __init__(self, m, n, eta = 0.01):\n",
        "    # m: Number of neurons in input/output layer\n",
        "    # n: number of neurons in hidden layer\n",
        "    self._m = m\n",
        "    self._n = n\n",
        "    self.learning_rate = eta\n",
        "\n",
        "    # Create the Computational graph\n",
        "    # Weights and biases\n",
        "    self._W1 = tf.Variable(tf.random_normal(shape=(self._m,self._n)))\n",
        "    self._W2 = tf.Variable(tf.random_normal(shape=(self._n,self._m)))\n",
        "    self._b1 = tf.Variable(np.zeros(self._n).astype(np.float32))  #bias for hidden layer\n",
        "    self._b2 = tf.Variable(np.zeros(self._m).astype(np.float32))  #bias for output layer\n",
        "\n",
        "    # Placeholder for inputs\n",
        "    self._X = tf.placeholder('float', [None, self._m])\n",
        "\n",
        "\n",
        "    self.y = self.encoder(self._X)\n",
        "    self.r = self.decoder(self.y)\n",
        "    error = self._X - self.r\n",
        "\n",
        "    self._loss = tf.reduce_mean(tf.pow(error, 2))\n",
        "    self._opt = tf.train.AdamOptimizer(self.learning_rate).minimize(self._loss)\n",
        "\n",
        "  def encoder(self, x):\n",
        "    h = tf.matmul(x, self._W1) + self._b1\n",
        "    return tf.nn.sigmoid(h)\n",
        "\n",
        "  def decoder(self, x):\n",
        "    h = tf.matmul(x, self._W2) + self._b2\n",
        "    return tf.nn.sigmoid(h)\n",
        "\n",
        "  def set_session(self, session):\n",
        "    self.session = session\n",
        "\n",
        "  def reduced_dimension(self, x):\n",
        "    h = self.encoder(x)\n",
        "    return self.session.run(h, feed_dict={self._X: x})\n",
        "\n",
        "  def reconstruct(self,x):\n",
        "    h = self.encoder(x)\n",
        "    r = self.decoder(h)\n",
        "    return self.session.run(r, feed_dict={self._X: x})\n",
        "  \n",
        "  def getWeights(self):\n",
        "    return self.session.run([self._W1, self._W2,self._b1, self._b2])\n",
        "\n",
        "  def fit(self, X, epochs = 1, batch_size = 100):\n",
        "    N, D = X.shape\n",
        "    num_batches = N // batch_size\n",
        "\n",
        "    obj = []\n",
        "    for i in range(epochs):\n",
        "      #X = shuffle(X)\n",
        "      for j in range(num_batches):\n",
        "        batch = X[j * batch_size: (j * batch_size + batch_size)]\n",
        "        _, ob = self.session.run([self._opt,self._loss], feed_dict={self._X: batch})\n",
        "        if j % 100 == 0:\n",
        "          print('training epoch {0} batch {2} cost {1}'.format(i,ob, j))\n",
        "        obj.append(ob)\n",
        "    return obj\n",
        "\n",
        "n_hidden = 256\n",
        "Xtrain = trX.astype(np.float32)\n",
        "Xtest = teX.astype(np.float32)\n",
        "_, m = Xtrain.shape\n",
        "\n",
        "autoEncoder = AutoEncoder(m, n_hidden)\n",
        "\n",
        "#Initialize all variables\n",
        "init = tf.global_variables_initializer()\n",
        "with tf.Session() as sess:\n",
        "  sess.run(init)\n",
        "  autoEncoder.set_session(sess)\n",
        "  err = autoEncoder.fit(Xtrain, epochs=5)\n",
        "  out = autoEncoder.reconstruct(Xtest[0:100])\n",
        "  W1, W2, b1, b2 = autoEncoder.getWeights()\n",
        "\n",
        "plt.plot(err)\n",
        "plt.xlabel('epochs')\n",
        "\n",
        "  "
      ],
      "execution_count": 1,
      "outputs": [
        {
          "output_type": "stream",
          "text": [
            "WARNING:tensorflow:From <ipython-input-1-c0e11c64c595>:8: read_data_sets (from tensorflow.contrib.learn.python.learn.datasets.mnist) is deprecated and will be removed in a future version.\n",
            "Instructions for updating:\n",
            "Please use alternatives such as official/mnist/dataset.py from tensorflow/models.\n",
            "WARNING:tensorflow:From /usr/local/lib/python3.6/dist-packages/tensorflow/contrib/learn/python/learn/datasets/mnist.py:260: maybe_download (from tensorflow.contrib.learn.python.learn.datasets.base) is deprecated and will be removed in a future version.\n",
            "Instructions for updating:\n",
            "Please write your own downloading logic.\n",
            "WARNING:tensorflow:From /usr/local/lib/python3.6/dist-packages/tensorflow/contrib/learn/python/learn/datasets/mnist.py:262: extract_images (from tensorflow.contrib.learn.python.learn.datasets.mnist) is deprecated and will be removed in a future version.\n",
            "Instructions for updating:\n",
            "Please use tf.data to implement this functionality.\n",
            "Extracting MNIST_data/train-images-idx3-ubyte.gz\n",
            "WARNING:tensorflow:From /usr/local/lib/python3.6/dist-packages/tensorflow/contrib/learn/python/learn/datasets/mnist.py:267: extract_labels (from tensorflow.contrib.learn.python.learn.datasets.mnist) is deprecated and will be removed in a future version.\n",
            "Instructions for updating:\n",
            "Please use tf.data to implement this functionality.\n",
            "Extracting MNIST_data/train-labels-idx1-ubyte.gz\n",
            "Extracting MNIST_data/t10k-images-idx3-ubyte.gz\n",
            "Extracting MNIST_data/t10k-labels-idx1-ubyte.gz\n",
            "WARNING:tensorflow:From /usr/local/lib/python3.6/dist-packages/tensorflow/contrib/learn/python/learn/datasets/mnist.py:290: DataSet.__init__ (from tensorflow.contrib.learn.python.learn.datasets.mnist) is deprecated and will be removed in a future version.\n",
            "Instructions for updating:\n",
            "Please use alternatives such as official/mnist/dataset.py from tensorflow/models.\n",
            "training epoch 0 batch 0 cost 0.4257811903953552\n",
            "training epoch 0 batch 100 cost 0.06571662425994873\n",
            "training epoch 0 batch 200 cost 0.054304398596286774\n",
            "training epoch 0 batch 300 cost 0.04891471937298775\n",
            "training epoch 0 batch 400 cost 0.0409056581556797\n",
            "training epoch 0 batch 500 cost 0.041784536093473434\n",
            "training epoch 1 batch 0 cost 0.0395355299115181\n",
            "training epoch 1 batch 100 cost 0.03347373008728027\n",
            "training epoch 1 batch 200 cost 0.034086924046278\n",
            "training epoch 1 batch 300 cost 0.03571385145187378\n",
            "training epoch 1 batch 400 cost 0.03127473220229149\n",
            "training epoch 1 batch 500 cost 0.03452054411172867\n",
            "training epoch 2 batch 0 cost 0.03272900730371475\n",
            "training epoch 2 batch 100 cost 0.02829204685986042\n",
            "training epoch 2 batch 200 cost 0.029124755412340164\n",
            "training epoch 2 batch 300 cost 0.030720368027687073\n",
            "training epoch 2 batch 400 cost 0.027017837390303612\n",
            "training epoch 2 batch 500 cost 0.030984139069914818\n",
            "training epoch 3 batch 0 cost 0.02902562916278839\n",
            "training epoch 3 batch 100 cost 0.02515823021531105\n",
            "training epoch 3 batch 200 cost 0.026494387537240982\n",
            "training epoch 3 batch 300 cost 0.028168851509690285\n",
            "training epoch 3 batch 400 cost 0.025300031527876854\n",
            "training epoch 3 batch 500 cost 0.02874106913805008\n",
            "training epoch 4 batch 0 cost 0.026996571570634842\n",
            "training epoch 4 batch 100 cost 0.023223131895065308\n",
            "training epoch 4 batch 200 cost 0.024951530620455742\n",
            "training epoch 4 batch 300 cost 0.0262929517775774\n",
            "training epoch 4 batch 400 cost 0.02380475215613842\n",
            "training epoch 4 batch 500 cost 0.02761414274573326\n"
          ],
          "name": "stdout"
        },
        {
          "output_type": "execute_result",
          "data": {
            "text/plain": [
              "Text(0.5,0,'epochs')"
            ]
          },
          "metadata": {
            "tags": []
          },
          "execution_count": 1
        },
        {
          "output_type": "display_data",
          "data": {
            "image/png": "[encoded data removed]",
            "text/plain": [
              "<matplotlib.figure.Figure at 0x7fb345d4f1d0>"
            ]
          },
          "metadata": {
            "tags": []
          }
        }
      ]
    }
  ]
}